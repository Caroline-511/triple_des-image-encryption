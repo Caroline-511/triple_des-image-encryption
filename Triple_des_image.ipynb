{
  "nbformat": 4,
  "nbformat_minor": 0,
  "metadata": {
    "colab": {
      "name": "Triple_des_image.ipynb",
      "provenance": [],
      "collapsed_sections": [],
      "authorship_tag": "ABX9TyOIWVas7j58ZE7s4Rm1KDDF",
      "include_colab_link": true
    },
    "kernelspec": {
      "name": "python3",
      "display_name": "Python 3"
    },
    "language_info": {
      "name": "python"
    }
  },
  "cells": [
    {
      "cell_type": "markdown",
      "metadata": {
        "id": "view-in-github",
        "colab_type": "text"
      },
      "source": [
        "<a href=\"https://colab.research.google.com/github/Caroline-511/triple_des-image-encryption/blob/main/Triple_des_image.ipynb\" target=\"_parent\"><img src=\"https://colab.research.google.com/assets/colab-badge.svg\" alt=\"Open In Colab\"/></a>"
      ]
    },
    {
      "cell_type": "code",
      "metadata": {
        "colab": {
          "base_uri": "https://localhost:8080/"
        },
        "id": "YSyobFId_PCF",
        "outputId": "5dc18935-70b1-4442-84c3-2fb16081adbc"
      },
      "source": [
        "!pip install pyDes"
      ],
      "execution_count": null,
      "outputs": [
        {
          "output_type": "stream",
          "text": [
            "Collecting pyDes\n",
            "  Downloading https://files.pythonhosted.org/packages/92/5e/0075a35ea5d307a182b0963900298b209ea2f363ccdd5a27e8cb04c58410/pyDes-2.0.1.tar.gz\n",
            "Building wheels for collected packages: pyDes\n",
            "  Building wheel for pyDes (setup.py) ... \u001b[?25l\u001b[?25hdone\n",
            "  Created wheel for pyDes: filename=pyDes-2.0.1-py2.py3-none-any.whl size=9548 sha256=061d495a078adac5d08190dfda6db752205c48e9a315f630539f6de8aba22d2f\n",
            "  Stored in directory: /root/.cache/pip/wheels/8d/ff/d6/b38861c6a8fb5807fcd62e520d4d018caca96c8c3c645e47ec\n",
            "Successfully built pyDes\n",
            "Installing collected packages: pyDes\n",
            "Successfully installed pyDes-2.0.1\n"
          ],
          "name": "stdout"
        }
      ]
    },
    {
      "cell_type": "code",
      "metadata": {
        "id": "d59-FiBfde-3"
      },
      "source": [
        "import io\n",
        "from pyDes import * \n",
        "import time"
      ],
      "execution_count": null,
      "outputs": []
    },
    {
      "cell_type": "code",
      "metadata": {
        "colab": {
          "base_uri": "https://localhost:8080/"
        },
        "id": "qluUWA_83gNJ",
        "outputId": "1f23b30e-f8e1-48a1-f38b-c081cd3047b6"
      },
      "source": [
        "secret = input(\"Enter the Secret Code: \")"
      ],
      "execution_count": null,
      "outputs": [
        {
          "output_type": "stream",
          "text": [
            "Enter the Secret Code: mission impossible\n"
          ],
          "name": "stdout"
        }
      ]
    },
    {
      "cell_type": "code",
      "metadata": {
        "colab": {
          "base_uri": "https://localhost:8080/"
        },
        "id": "XiptcSF9dlm7",
        "outputId": "9206d9c1-1825-44e7-8b7d-a4194a0ef6b2"
      },
      "source": [
        "imagefile= input(\"Enter the name of the image file which contains the image to be Encrypted: \")"
      ],
      "execution_count": null,
      "outputs": [
        {
          "output_type": "stream",
          "text": [
            "Enter the name of the image file which contains the image to be Encrypted: image.jpg\n"
          ],
          "name": "stdout"
        }
      ]
    },
    {
      "cell_type": "code",
      "metadata": {
        "id": "ncMppjsdi8ra"
      },
      "source": [
        "def time_taken(sec_elapsed):\n",
        "    h = int(sec_elapsed / (60 * 60))\n",
        "    m = int((sec_elapsed % (60 * 60)) / 60)\n",
        "    s = sec_elapsed % 60\n",
        "    return f\"{h}:{m}:{round(s,1)}\""
      ],
      "execution_count": null,
      "outputs": []
    },
    {
      "cell_type": "code",
      "metadata": {
        "id": "5YrE4T2QL6Gv"
      },
      "source": [
        "#Encryption\n",
        "\n",
        "def encryption():\n",
        "  lst=[]\n",
        "  with open(imagefile,'rb') as img: \n",
        "    imgdata = img.read()\n",
        "    for img1 in imgdata:\n",
        "      lst.append(img1)\n",
        "  img.close()\n",
        "  \n",
        "  data = imgdata\n",
        "  k=triple_des(\"THISISASECRETKEY\",CBC,\"\\0\\0\\0\\0\\0\\0\\0\\0\",pad=None,padmode= PAD_PKCS5) \n",
        "  imgdata=k.encrypt(data) \n",
        "  with open('Encrypted.jpg','wb') as img:\n",
        "    img.write(imgdata) \n",
        "  print(\"Encryption complete!!!!\") \n",
        "\n",
        "#Decryption\n",
        "\n",
        "  lst=[]\n",
        "  with open('Encrypted.jpg','rb') as img:\n",
        "    imgdata=img.read()\n",
        "    for img1 in imgdata:\n",
        "      lst.append(img1)\n",
        "  img.close()\n",
        "\n",
        "  data = imgdata\n",
        "  k =triple_des(\"THISISASECRETKE1\", CBC,\"\\0\\0\\0\\0\\0\\0\\0\\0\", pad=None, padmode=PAD_PKCS5)\n",
        "  imgdata=k.decrypt(data)\n",
        "  with open('Encrypted.jpg','wb') as img:\n",
        "    img.write(imgdata)\n",
        "  print(\"Decryption complete!!!\") \n",
        "\n",
        "#Encryption\n",
        "\n",
        "  lst=[]\n",
        "  with open('Encrypted.jpg','rb') as img: \n",
        "    imgdata = img.read()\n",
        "    for img1 in imgdata:\n",
        "      lst.append(img1)\n",
        "  img.close()\n",
        "\n",
        "  data = imgdata\n",
        "  k=triple_des(\"THISISASECRETKE2\",CBC,\"\\0\\0\\0\\0\\0\\0\\0\\0\",pad=None,padmode= PAD_PKCS5) \n",
        "  imgdata=k.encrypt(data) \n",
        "  with open('Encrypted.jpg','wb') as img:\n",
        "    img.write(imgdata) \n",
        "  print(\"Encryption complete!!!!\") \n",
        "  print(\"Encryption ---- Decrytion ----- Encryption complete for Encryption part\")"
      ],
      "execution_count": null,
      "outputs": []
    },
    {
      "cell_type": "code",
      "metadata": {
        "colab": {
          "base_uri": "https://localhost:8080/"
        },
        "id": "aCNWEdgMsBld",
        "outputId": "710f6421-37e2-4744-8876-8034419cd32d"
      },
      "source": [
        "start_time = time.time()\n",
        "answer_encrypt = encryption()\n",
        "end_time = time.time()\n",
        "execution_time = (end_time - start_time)\n",
        "print(f\"Elapsed time: {time_taken(execution_time)}\")"
      ],
      "execution_count": null,
      "outputs": [
        {
          "output_type": "stream",
          "text": [
            "Encryption complete!!!!\n",
            "Decryption complete!!!\n",
            "Encryption complete!!!!\n",
            "Encryption ---- Decrytion ----- Encryption complete for Encryption part\n",
            "Elapsed time: 0:0:6.8\n"
          ],
          "name": "stdout"
        }
      ]
    },
    {
      "cell_type": "code",
      "metadata": {
        "id": "t5nsvq1O_lSH"
      },
      "source": [
        "#Decryption\n",
        "\n",
        "def decryption():\n",
        "  lst=[]\n",
        "  with open('Encrypted.jpg','rb') as img:\n",
        "    imgdata=img.read()\n",
        "    for img1 in imgdata:\n",
        "      lst.append(img1)\n",
        "  img.close()\n",
        "\n",
        "  data = imgdata\n",
        "  k =triple_des(\"THISISASECRETKE2\", CBC,\"\\0\\0\\0\\0\\0\\0\\0\\0\", pad=None, padmode=PAD_PKCS5)\n",
        "  imgdata=k.decrypt(data)\n",
        "  with open('Decrypted.jpg','wb') as img:\n",
        "    img.write(imgdata)\n",
        "  print(\"Decryption complete!!!\") \n",
        "\n",
        "#Encryption\n",
        "\n",
        "  lst=[]\n",
        "  with open('Decrypted.jpg','rb') as img: \n",
        "    imgdata = img.read()\n",
        "    for img1 in imgdata:\n",
        "      lst.append(img1)\n",
        "  img.close()\n",
        "\n",
        "  data = imgdata\n",
        "  k=triple_des(\"THISISASECRETKE1\",CBC,\"\\0\\0\\0\\0\\0\\0\\0\\0\",pad=None,padmode= PAD_PKCS5) \n",
        "  imgdata=k.encrypt(data) \n",
        "  with open('Decrypted.jpg','wb') as img:\n",
        "    img.write(imgdata) \n",
        "  print(\"Encryption complete!!!!\") \n",
        "\n",
        "#Decryption\n",
        "\n",
        "  lst=[]\n",
        "  with open('Decrypted.jpg','rb') as img:\n",
        "    imgdata=img.read()\n",
        "    for img1 in imgdata:\n",
        "      lst.append(img1)\n",
        "  img.close()\n",
        "\n",
        "  data = imgdata\n",
        "  k =triple_des(\"THISISASECRETKEY\", CBC,\"\\0\\0\\0\\0\\0\\0\\0\\0\", pad=None, padmode=PAD_PKCS5)\n",
        "  imgdata=k.decrypt(data)\n",
        "  with open('Decrypted.jpg','wb') as img:\n",
        "    img.write(imgdata)\n",
        "  print(\"Decryption complete!!!\") \n",
        "  print(\"Decryption ------ Encryption ------- Decryption complete for Decryption part\")"
      ],
      "execution_count": null,
      "outputs": []
    },
    {
      "cell_type": "code",
      "metadata": {
        "colab": {
          "base_uri": "https://localhost:8080/"
        },
        "id": "nWzY9OMJ32rQ",
        "outputId": "11d8dab5-b9da-4920-a33b-b6e7749a2ee9"
      },
      "source": [
        "decrypt_secret = input(\"Enter the Secret code :\")"
      ],
      "execution_count": null,
      "outputs": [
        {
          "output_type": "stream",
          "text": [
            "Enter the Secret code :mission impossible\n"
          ],
          "name": "stdout"
        }
      ]
    },
    {
      "cell_type": "code",
      "metadata": {
        "colab": {
          "base_uri": "https://localhost:8080/"
        },
        "id": "opd2rHkEs_72",
        "outputId": "b6960de5-54b5-4f73-a876-ac94bbfb5ac5"
      },
      "source": [
        "if secret == decrypt_secret:\n",
        "  start_time = time.time()\n",
        "  final_answer = decryption()\n",
        "  end_time = time.time()\n",
        "  execution_time = (end_time - start_time)\n",
        "  print(f\"Elapsed time: {time_taken(execution_time)}\")\n",
        "else:\n",
        "  print(\"SECRET CODE INCORRECT --- IMAGE CANNOT BE DECRYPTED\")"
      ],
      "execution_count": null,
      "outputs": [
        {
          "output_type": "stream",
          "text": [
            "Decryption complete!!!\n",
            "Encryption complete!!!!\n",
            "Decryption complete!!!\n",
            "Decryption ------ Encryption ------- Decryption complete for Decryption part\n",
            "Elapsed time: 0:0:6.7\n"
          ],
          "name": "stdout"
        }
      ]
    }
  ]
}